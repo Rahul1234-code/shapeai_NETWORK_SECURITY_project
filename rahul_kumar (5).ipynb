{
  "nbformat": 4,
  "nbformat_minor": 0,
  "metadata": {
    "colab": {
      "name": "rahul_kumar.ipynb",
      "provenance": []
    },
    "kernelspec": {
      "name": "python3",
      "display_name": "Python 3"
    },
    "language_info": {
      "name": "python"
    }
  },
  "cells": [
    {
      "cell_type": "code",
      "metadata": {
        "id": "7UPLw8TWe_O-"
      },
      "source": [
        "import hashlib"
      ],
      "execution_count": 1,
      "outputs": []
    },
    {
      "cell_type": "code",
      "metadata": {
        "colab": {
          "base_uri": "https://localhost:8080/"
        },
        "id": "1l_zO2nfkwfl",
        "outputId": "40d28fc8-6fcf-40b0-c5f8-7b91f7333afd"
      },
      "source": [
        "print(hashlib.algorithms_available)\n",
        "print(hashlib.algorithms_guaranteed)\n"
      ],
      "execution_count": 2,
      "outputs": [
        {
          "output_type": "stream",
          "text": [
            "{'sha1', 'sha3_256', 'sha384', 'sha3_512', 'sha3_224', 'sha3_384', 'blake2s', 'sha224', 'blake2b', 'sha256', 'shake_256', 'shake_128', 'sha512', 'md5'}\n",
            "{'sha1', 'sha3_256', 'sha384', 'sha3_512', 'sha3_224', 'sha3_384', 'blake2s', 'sha224', 'blake2b', 'sha256', 'shake_256', 'shake_128', 'sha512', 'md5'}\n"
          ],
          "name": "stdout"
        }
      ]
    },
    {
      "cell_type": "markdown",
      "metadata": {
        "id": "X-t3ohNDnEv4"
      },
      "source": [
        "md5"
      ]
    },
    {
      "cell_type": "code",
      "metadata": {
        "colab": {
          "base_uri": "https://localhost:8080/"
        },
        "id": "HCm3xCVmk4z_",
        "outputId": "50e83487-3037-40aa-ba8a-bf9aab215fa6"
      },
      "source": [
        "hash_object = hashlib.md5(b'Hello World')\n",
        "print(hash_object.hexdigest())\n"
      ],
      "execution_count": 3,
      "outputs": [
        {
          "output_type": "stream",
          "text": [
            "b10a8db164e0754105b7a99be72e3fe5\n"
          ],
          "name": "stdout"
        }
      ]
    },
    {
      "cell_type": "code",
      "metadata": {
        "colab": {
          "base_uri": "https://localhost:8080/"
        },
        "id": "EikGIfJDlBl2",
        "outputId": "08776451-eadb-4f83-bd49-fbbee445e817"
      },
      "source": [
        "mystring = input('Enter String to hash: ')\n",
        "hash_object = hashlib.md5(mystring.encode())\n",
        "print(hash_object.hexdigest())"
      ],
      "execution_count": 4,
      "outputs": [
        {
          "output_type": "stream",
          "text": [
            "Enter String to hash: rahul\n",
            "439ed537979d8e831561964dbbbd7413\n"
          ],
          "name": "stdout"
        }
      ]
    },
    {
      "cell_type": "markdown",
      "metadata": {
        "id": "iDvh4vNflg42"
      },
      "source": [
        "SHA1"
      ]
    },
    {
      "cell_type": "code",
      "metadata": {
        "colab": {
          "base_uri": "https://localhost:8080/"
        },
        "id": "f5CpGQH-lNWO",
        "outputId": "21456d08-a205-496c-c1ff-ce7c93f4cccf"
      },
      "source": [
        "hash_object = hashlib.sha1(b'Hello World')\n",
        "hex_dig = hash_object.hexdigest()\n",
        "print(hex_dig)"
      ],
      "execution_count": 5,
      "outputs": [
        {
          "output_type": "stream",
          "text": [
            "0a4d55a8d778e5022fab701977c5d840bbc486d0\n"
          ],
          "name": "stdout"
        }
      ]
    },
    {
      "cell_type": "markdown",
      "metadata": {
        "id": "YJgk5Bv7lkw9"
      },
      "source": [
        "SHA224"
      ]
    },
    {
      "cell_type": "code",
      "metadata": {
        "colab": {
          "base_uri": "https://localhost:8080/"
        },
        "id": "qYyEyVeilWDd",
        "outputId": "21837715-54c4-4e21-9121-b729d9363bb4"
      },
      "source": [
        "hash_object = hashlib.sha224(b'Hello World')\n",
        "hex_dig = hash_object.hexdigest()\n",
        "print(hex_dig)"
      ],
      "execution_count": 6,
      "outputs": [
        {
          "output_type": "stream",
          "text": [
            "c4890faffdb0105d991a461e668e276685401b02eab1ef4372795047\n"
          ],
          "name": "stdout"
        }
      ]
    },
    {
      "cell_type": "markdown",
      "metadata": {
        "id": "OMn8jy1Fl8VK"
      },
      "source": [
        "SHA256"
      ]
    },
    {
      "cell_type": "code",
      "metadata": {
        "colab": {
          "base_uri": "https://localhost:8080/"
        },
        "id": "fDa-x7KTmCX9",
        "outputId": "904d27b1-698e-4aa0-cd9f-77ae15399af0"
      },
      "source": [
        "hash_object = hashlib.sha256(b'Hello World')\n",
        "hex_dig = hash_object.hexdigest()\n",
        "print(hex_dig)"
      ],
      "execution_count": 7,
      "outputs": [
        {
          "output_type": "stream",
          "text": [
            "a591a6d40bf420404a011733cfb7b190d62c65bf0bcda32b57b277d9ad9f146e\n"
          ],
          "name": "stdout"
        }
      ]
    },
    {
      "cell_type": "markdown",
      "metadata": {
        "id": "xuBe--2vmJN3"
      },
      "source": [
        "SHA384"
      ]
    },
    {
      "cell_type": "code",
      "metadata": {
        "colab": {
          "base_uri": "https://localhost:8080/"
        },
        "id": "tXIvtoSHmOeL",
        "outputId": "0abf3c57-9575-4795-acf4-c9affe1e0aa8"
      },
      "source": [
        "hash_object = hashlib.sha384(b'Hello World')\n",
        "hex_dig = hash_object.hexdigest()\n",
        "print(hex_dig)"
      ],
      "execution_count": 8,
      "outputs": [
        {
          "output_type": "stream",
          "text": [
            "99514329186b2f6ae4a1329e7ee6c610a729636335174ac6b740f9028396fcc803d0e93863a7c3d90f86beee782f4f3f\n"
          ],
          "name": "stdout"
        }
      ]
    },
    {
      "cell_type": "markdown",
      "metadata": {
        "id": "uX_Ok2TtmUkq"
      },
      "source": [
        "SHA512"
      ]
    },
    {
      "cell_type": "code",
      "metadata": {
        "colab": {
          "base_uri": "https://localhost:8080/"
        },
        "id": "l5omlYU-mZUg",
        "outputId": "edbd7335-b432-4b2f-d819-32cd41bfaad7"
      },
      "source": [
        "hash_object = hashlib.sha512(b'Hello World')\n",
        "hex_dig = hash_object.hexdigest()\n",
        "print(hex_dig)\n"
      ],
      "execution_count": 9,
      "outputs": [
        {
          "output_type": "stream",
          "text": [
            "2c74fd17edafd80e8447b0d46741ee243b7eb74dd2149a0ab1b9246fb30382f27e853d8585719e0e67cbda0daa8f51671064615d645ae27acb15bfb1447f459b\n"
          ],
          "name": "stdout"
        }
      ]
    }
  ]
}