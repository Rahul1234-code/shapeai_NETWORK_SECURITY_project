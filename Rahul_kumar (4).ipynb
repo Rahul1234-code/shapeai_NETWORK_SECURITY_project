{
  "nbformat": 4,
  "nbformat_minor": 0,
  "metadata": {
    "colab": {
      "name": "Rahul_kumar.ipynb",
      "provenance": []
    },
    "kernelspec": {
      "name": "python3",
      "display_name": "Python 3"
    },
    "language_info": {
      "name": "python"
    }
  },
  "cells": [
    {
      "cell_type": "code",
      "metadata": {
        "id": "dJh0FZOkXi8w"
      },
      "source": [
        "import hashlib"
      ],
      "execution_count": null,
      "outputs": []
    },
    {
      "cell_type": "code",
      "metadata": {
        "colab": {
          "base_uri": "https://localhost:8080/"
        },
        "id": "Jo2R5DJUZb1a",
        "outputId": "313f8b43-6c83-462e-949c-047c1c052055"
      },
      "source": [
        "result = hashlib.md5(b'Python')\n",
        "print(\"Hash Value : \", end =\"\")\n",
        "print(result)\n",
        "print(\"Equivalent Byte : \", end =\"\")\n",
        "print(result.digest())"
      ],
      "execution_count": null,
      "outputs": [
        {
          "output_type": "stream",
          "text": [
            "Hash Value : <md5 HASH object @ 0x7f9d6f10a5a0>\n",
            "Equivalent Byte : b\"\\xa7\\xf5\\xf3T&\\xb9'A\\x1f\\xc9#\\x1bV8!s\"\n"
          ],
          "name": "stdout"
        }
      ]
    },
    {
      "cell_type": "code",
      "metadata": {
        "colab": {
          "base_uri": "https://localhost:8080/"
        },
        "id": "Yntw4zPgZrWd",
        "outputId": "bc05a479-4766-411d-f0d6-28df5982217d"
      },
      "source": [
        "result = hashlib.md5('Python'.encode())\n",
        "print(\"Hash Value : \", end =\"\")\n",
        "print(result)\n",
        "print(\"Hexadecimal Equivalent : \", end =\"\")\n",
        "print(result.hexdigest())"
      ],
      "execution_count": null,
      "outputs": [
        {
          "output_type": "stream",
          "text": [
            "Hash Value : <md5 HASH object @ 0x7f9d6f10a6c0>\n",
            "Hexadecimal Equivalent : a7f5f35426b927411fc9231b56382173\n"
          ],
          "name": "stdout"
        }
      ]
    },
    {
      "cell_type": "code",
      "metadata": {
        "colab": {
          "base_uri": "https://localhost:8080/"
        },
        "id": "gx3HsDvQbLM4",
        "outputId": "0d906886-da76-4506-df73-28e5845c1850"
      },
      "source": [
        "string =\"python.com\"\n",
        "encoded=string.encode()\n",
        "result = hashlib.md5(encoded)\n",
        "print(\"String : \", end =\"\")\n",
        "print(string)\n",
        "print(\"Hash Value : \", end =\"\")\n",
        "print(result)\n",
        "print(\"Hexadecimal equivalent:\",result.hexdigest())"
      ],
      "execution_count": null,
      "outputs": [
        {
          "output_type": "stream",
          "text": [
            "String : python.com\n",
            "Hash Value : <md5 HASH object @ 0x7f9d6f10a540>\n",
            "Hexadecimal equivalent: ad803822a03c14f06ad1e1fabb6a36a7\n"
          ],
          "name": "stdout"
        }
      ]
    }
  ]
}